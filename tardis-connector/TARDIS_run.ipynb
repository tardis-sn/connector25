{
 "cells": [
  {
   "cell_type": "markdown",
   "metadata": {},
   "source": [
    "# Run TARDIS workflow"
   ]
  },
  {
   "cell_type": "code",
   "execution_count": null,
   "metadata": {},
   "outputs": [],
   "source": [
    "import numpy as np\n",
    "import matplotlib.pyplot as plt\n",
    "from pathlib import Path\n",
    "\n",
    "from stella_to_tardis_parser import parse_stella_models_to_tardis_configs\n",
    "\n",
    "from tardis.workflows.v_inner_solver import InnerVelocitySolverWorkflow\n",
    "from tardis.io.configuration.config_reader import Configuration\n",
    "from tardis.io.model import read_stella_model\n",
    "from tardis.util.base import atomic_number2element_symbol\n"
   ]
  },
  {
   "cell_type": "markdown",
   "metadata": {},
   "source": [
    "# Convert stella model to TARDIS config "
   ]
  },
  {
   "cell_type": "markdown",
   "metadata": {},
   "source": [
    "Uncomment and run this following cell if you have not yet convert the stella model into tardis config files "
   ]
  },
  {
   "cell_type": "code",
   "execution_count": null,
   "metadata": {},
   "outputs": [],
   "source": [
    "# STELLA_model_folder_fpath = Path.cwd() / \"example_stella_explosion\"\n",
    "\n",
    "# tardis_example_config_folder_path = Path.cwd() / \"TARDIS_template_configs\"\n",
    "\n",
    "# tardis_config_folder = STELLA_model_folder_fpath / \"tardis_configs\"\n",
    "\n",
    "# INTERPOLATE_MASS_FRACTIONS = True  # boolean, if True then interpolate the mass fractions from MESA profile onto STELLA mass grid\n",
    "# SKIP_NONHOMOLOGOUS_MODELS = (\n",
    "#     True  # boolean, if True then skip non-homologous models and not save them\n",
    "# )\n",
    "# MAX_NONHOMOLOGOUS_SHELLS = 5  # int, if active if SKIP_NONHOMOLOGOUS_MODELS is True, the maximum number of non-homologous shells to skip\n",
    "# TAU_UPPER_LIMIT = 1e3  # False or float, filter out the shells that has tau larger than this value\n",
    "# TAU_LOWER_LIMIT = 1e-10  # False or float, filter out the shells that has tau lower than this value\n",
    "# SHRINK_SHELL_NUMBER = False  # False or int, if int then end up with this int as total shell numbers that keep the velocity range but lower the grid resolution\n",
    "# L_NUC_RATIO_UPPER_LIMIT = (\n",
    "#     0.8  # default 0.8, criteria to determine if the photosphere holds, means L_nuc/L_bol <= 0.8\n",
    "# )\n",
    "\n",
    "# parse_stella_models_to_tardis_configs(\n",
    "#     STELLA_model_folder_fpath,\n",
    "#     tardis_example_config_folder_path,\n",
    "#     tardis_config_output_folder_path=None,\n",
    "#     interpolate_mass_fractions=INTERPOLATE_MASS_FRACTIONS,\n",
    "#     skip_nonhomologous_models=SKIP_NONHOMOLOGOUS_MODELS,\n",
    "#     max_nonhomologous_shells=MAX_NONHOMOLOGOUS_SHELLS,\n",
    "#     tau_upper_limit=TAU_UPPER_LIMIT,\n",
    "#     tau_lower_limit=TAU_LOWER_LIMIT,\n",
    "#     shrink_shell_number=SHRINK_SHELL_NUMBER,\n",
    "#     l_nuc_ratio_upper_limit=L_NUC_RATIO_UPPER_LIMIT,\n",
    "# )"
   ]
  },
  {
   "cell_type": "markdown",
   "metadata": {},
   "source": [
    "Setup file paths and names -- change to correct final paths in some data dir, and pick a specific day for that model\n",
    "\n",
    "Config is output by the STELLA_to_TARDIS.ipynb notebook currently. We will want to make a pared down script for this.\n"
   ]
  },
  {
   "cell_type": "code",
   "execution_count": null,
   "metadata": {},
   "outputs": [],
   "source": [
    "STELLA_model_folder_fpath = Path.cwd() / \"example_stella_explosion\"\n",
    "\n",
    "chosen_day = \"001\"\n",
    "\n",
    "config_fname = f\"Day_{chosen_day}_mesa_stella_tardis.yml\"\n",
    "config_fpath = STELLA_model_folder_fpath / \"tardis_configs\" / config_fname\n",
    "config = Configuration.from_yaml(config_fpath)"
   ]
  },
  {
   "cell_type": "markdown",
   "metadata": {},
   "source": [
    "Use InnerVelocitySolverWorkflow so we don't need to define an inner boundary for an arbitrary explosion model. This moves the inner boundary in tandem with solving the plasma to get a deep enough inner boundary for a physical spectrum, but not too deep where the packets will not escape from the ejecta. \n",
    "\n",
    "workflow.run() is where the tardis simulation actually executes. "
   ]
  },
  {
   "cell_type": "code",
   "execution_count": null,
   "metadata": {},
   "outputs": [],
   "source": [
    "workflow = InnerVelocitySolverWorkflow(\n",
    "    config, tau=2.0 / 3, mean_optical_depth=\"rosseland\", csvy=True\n",
    ")\n",
    "workflow.run()"
   ]
  },
  {
   "cell_type": "markdown",
   "metadata": {},
   "source": [
    "# Check the spectrum"
   ]
  },
  {
   "cell_type": "code",
   "execution_count": null,
   "metadata": {},
   "outputs": [],
   "source": [
    "spectrum = workflow.spectrum_solver.spectrum_real_packets\n",
    "# spectrum = workflow.spectrum_solver.spectrum_integrated\n",
    "\n",
    "wavelength = spectrum.wavelength.value[\n",
    "    ::-1\n",
    "]  # in Angstrom , [::-1] to make it in increasing order in wavelength\n",
    "lum_dens = spectrum.luminosity_density_lambda.value[::-1]  # in erg/s/Angstrom/cm^2\n",
    "\n",
    "plt.plot(wavelength, lum_dens)\n",
    "plt.xlabel(\"Wavelength [$\\AA$]\")\n",
    "plt.ylabel(\"Luminosity Density [$erg/s/\\AA/cm^2$]\")\n",
    "plt.yscale(\"log\")\n",
    "plt.xscale(\"log\")"
   ]
  },
  {
   "cell_type": "markdown",
   "metadata": {},
   "source": [
    "# Compare radiative properties \n",
    "\n",
    "Below are some diagnostics to see if the tardis model created from stella is similar to the stella model it was created from. Note that TARDIS only needs the outermost layers, at or nearby the optically thin region.\n",
    "\n",
    "We start by loading in the mesa model."
   ]
  },
  {
   "cell_type": "code",
   "execution_count": null,
   "metadata": {},
   "outputs": [],
   "source": [
    "model_fname = f\"mesa.day{chosen_day}_post_Lbol_max.data\"\n",
    "stella_model = read_stella_model(STELLA_model_folder_fpath / \"res\" / model_fname)"
   ]
  },
  {
   "cell_type": "code",
   "execution_count": null,
   "metadata": {},
   "outputs": [],
   "source": [
    "df_model_all_columns = stella_model.data\n",
    "\n",
    "compare_stella_cols = [\"radiation_temperature\", \"tau\", \"n_e\"]\n",
    "compare_tardis_values = [\n",
    "    workflow.simulation_state.t_radiative,\n",
    "    np.exp(workflow.final_integrated_tau),\n",
    "    workflow.plasma_solver.electron_densities.values[-workflow.simulation_state.no_of_shells :],\n",
    "]\n",
    "tardis_labels = [\"t_rad\", \"itg_tau\", \"n_e\"]\n",
    "\n",
    "fig, axes = plt.subplots(\n",
    "    len(compare_stella_cols), 1, figsize=(6, len(compare_stella_cols) * 3), sharex=True\n",
    ")\n",
    "fig.subplots_adjust(hspace=0.0)\n",
    "\n",
    "for i, ax in enumerate(axes):\n",
    "    ax.plot(\n",
    "        df_model_all_columns[\"cell_center_v\"] / 1e5,\n",
    "        df_model_all_columns[compare_stella_cols[i]],\n",
    "        label=f\"STELLA {compare_stella_cols[i]}\",\n",
    "        color=\"tab:blue\",\n",
    "    )\n",
    "    ax.plot(\n",
    "        workflow.simulation_state.v_inner / 1e5,\n",
    "        compare_tardis_values[i],\n",
    "        label=f\"TARDIS {tardis_labels[i]}\",\n",
    "        color=\"tab:orange\",\n",
    "    )\n",
    "    ax.set_xlabel(\"Velocity (km/s)\")\n",
    "    ax.set_ylabel(compare_stella_cols[i])\n",
    "    ax.set_yscale(\"log\")\n",
    "    ax.grid(alpha=0.3)\n",
    "    ax.legend()\n"
   ]
  },
  {
   "cell_type": "markdown",
   "metadata": {},
   "source": [
    "# Tardis visualization and diagnostic tools"
   ]
  },
  {
   "cell_type": "code",
   "execution_count": null,
   "metadata": {},
   "outputs": [],
   "source": [
    "from tardis.visualization import SDECPlotter, LIVPlotter, LineInfoWidget, GrotrianWidget\n",
    "from astropy import units as u"
   ]
  },
  {
   "cell_type": "markdown",
   "metadata": {},
   "source": [
    "This cell is a hack at the time of the 2025 connector to pass an appropriate object to the SDEC and LIV plotters, when using a workflow instead of a tardis simulation object."
   ]
  },
  {
   "cell_type": "code",
   "execution_count": null,
   "metadata": {},
   "outputs": [],
   "source": [
    "class DummySimForPlots:\n",
    "    class DummyTransport:\n",
    "        def __init__(self, transport_state):\n",
    "            self.transport_state = transport_state\n",
    "\n",
    "    def __init__(self, plasma, spectrum_solver, simulation_state, transport_state):\n",
    "        self.plasma = plasma\n",
    "        self.spectrum_solver = spectrum_solver\n",
    "        self.simulation_state = simulation_state\n",
    "        self.transport = self.DummyTransport(transport_state)\n"
   ]
  },
  {
   "cell_type": "code",
   "execution_count": null,
   "metadata": {},
   "outputs": [],
   "source": [
    "dummy_sim = DummySimForPlots(\n",
    "    workflow.plasma_solver,\n",
    "    workflow.spectrum_solver,\n",
    "    workflow.simulation_state,\n",
    "    workflow.transport_state,\n",
    ")"
   ]
  },
  {
   "cell_type": "code",
   "execution_count": null,
   "metadata": {},
   "outputs": [],
   "source": [
    "plotter = SDECPlotter.from_simulation(dummy_sim)"
   ]
  },
  {
   "cell_type": "markdown",
   "metadata": {},
   "source": [
    "Below is a spectral decomposition plot, showing which elements contribute to absorption and emission at each wavelength. \n",
    "\n",
    "Note that the tardis spectrum is wider than this plot is showing by default, from 2000 to 25000 angstroms, but set in the config for the run."
   ]
  },
  {
   "cell_type": "code",
   "execution_count": null,
   "metadata": {},
   "outputs": [],
   "source": [
    "plotter.generate_plot_mpl(packet_wvl_range=[5000, 10000] * u.AA)"
   ]
  },
  {
   "cell_type": "code",
   "execution_count": null,
   "metadata": {},
   "outputs": [],
   "source": [
    "livplot = LIVPlotter.from_simulation(dummy_sim)"
   ]
  },
  {
   "cell_type": "markdown",
   "metadata": {},
   "source": [
    "Below is a last interaction velocity plot, showing where in the ejecta photons interact with certain elements. "
   ]
  },
  {
   "cell_type": "code",
   "execution_count": null,
   "metadata": {},
   "outputs": [],
   "source": [
    "livplot.generate_plot_mpl()\n",
    "plt.yscale(\"log\")"
   ]
  },
  {
   "cell_type": "markdown",
   "metadata": {},
   "source": [
    "Here we check to see the mass fractions of certain elements throughout the ejecta. It will be uniform for the outer ejecta, but non-uniform when mixing reaches into the photosphere, which can happen when more of the ejecta is optically thin.\n",
    "\n",
    "The cell immediately below the plot shows raw mass fractions per shell in a dataframe. "
   ]
  },
  {
   "cell_type": "code",
   "execution_count": null,
   "metadata": {},
   "outputs": [],
   "source": [
    "plt.plot(\n",
    "    workflow.simulation_state.v_inner / 1e5,\n",
    "    workflow.simulation_state.composition.elemental_mass_fraction.iloc[\n",
    "        :, -workflow.simulation_state.no_of_shells :\n",
    "    ].T,\n",
    ")\n",
    "plt.legend(\n",
    "    [\n",
    "        atomic_number2element_symbol(atomic_num)\n",
    "        for atomic_num in workflow.simulation_state.composition.elemental_mass_fraction.index.values\n",
    "    ]\n",
    ")\n",
    "plt.xlabel(\"Velocity (km/s)\")\n",
    "plt.ylabel(\"Mass Fraction\")\n",
    "\n",
    "plt.yscale(\"log\")"
   ]
  },
  {
   "cell_type": "code",
   "execution_count": null,
   "metadata": {},
   "outputs": [],
   "source": [
    "workflow.simulation_state.composition.elemental_mass_fraction.iloc[\n",
    "    :, -workflow.simulation_state.no_of_shells :\n",
    "]"
   ]
  },
  {
   "cell_type": "markdown",
   "metadata": {},
   "source": [
    "Finally let's check some of the final thermodynamic quantities throughout the ejecta. "
   ]
  },
  {
   "cell_type": "code",
   "execution_count": null,
   "metadata": {},
   "outputs": [],
   "source": [
    "plt.plot(workflow.simulation_state.v_inner / 1e5, workflow.simulation_state.density)\n",
    "plt.xlabel(\"Velocity (km/s)\")\n",
    "plt.ylabel(\"Density (g/cm^3)\")"
   ]
  },
  {
   "cell_type": "code",
   "execution_count": null,
   "metadata": {},
   "outputs": [],
   "source": [
    "plt.plot(workflow.simulation_state.v_inner / 1e5, workflow.simulation_state.t_radiative)\n",
    "plt.xlabel(\"Velocity (km/s)\")\n",
    "plt.ylabel(\"Radiative Temperature (K)\")"
   ]
  }
 ],
 "metadata": {
  "kernelspec": {
   "display_name": "tardis",
   "language": "python",
   "name": "python3"
  },
  "language_info": {
   "codemirror_mode": {
    "name": "ipython",
    "version": 3
   },
   "file_extension": ".py",
   "mimetype": "text/x-python",
   "name": "python",
   "nbconvert_exporter": "python",
   "pygments_lexer": "ipython3",
   "version": "3.12.4"
  }
 },
 "nbformat": 4,
 "nbformat_minor": 2
}
