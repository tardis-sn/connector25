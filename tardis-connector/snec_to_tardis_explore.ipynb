{
 "cells": [
  {
   "cell_type": "markdown",
   "metadata": {},
   "source": [
    "# Import "
   ]
  },
  {
   "cell_type": "code",
   "execution_count": null,
   "metadata": {},
   "outputs": [],
   "source": [
    "import glob\n",
    "from pathlib import Path\n",
    "import pandas as pd\n",
    "import numpy as np\n",
    "\n",
    "from snec_to_tardis_parser import parse_snec_to_tardis\n",
    "from tardis_utils import run_tardis_from_yml\n"
   ]
  },
  {
   "cell_type": "markdown",
   "metadata": {},
   "source": [
    "# Convert SNEC to TARDIS configs "
   ]
  },
  {
   "cell_type": "code",
   "execution_count": null,
   "metadata": {},
   "outputs": [],
   "source": [
    "snec_folder_path = Path.cwd() / \"example_stir_explosion\"\n",
    "tardis_example_config_folder_path = Path.cwd() / \"TARDIS_template_configs\"\n",
    "\n",
    "# match the days that has stella profiles\n",
    "STELLA_model_folder = Path.cwd() / \"example_stella_explosion\"\n",
    "tardis_csvy_files = sorted(glob.glob(f\"{STELLA_model_folder}/tardis_configs/*.csvy\"))\n",
    "time_in_days = [csvy_file.split(\"/\")[-1].split(\"_\")[1] for csvy_file in tardis_csvy_files]\n",
    "\n",
    "\n",
    "selected_dict_SNEC_output, df_snec_comps = parse_snec_to_tardis(\n",
    "    snec_folder_path,\n",
    "    tardis_example_config_folder_path,\n",
    "    tardis_config_output_path=f\"{snec_folder_path}/tardis_configs\",\n",
    "    time_in_days=time_in_days,\n",
    "    tau_upper_limit=1e3,\n",
    "    tau_lower_limit=1e-10,\n",
    "    comps_profile_file_path=None,\n",
    "    comp_use_boxcared=False,  # TODO need to rerun snec to have full isotopes\n",
    "    snec_data_folder_path_comp_boxcar=None,\n",
    "    use_vel_diff=False,\n",
    "    num_keep_shells=45,\n",
    ")"
   ]
  },
  {
   "cell_type": "markdown",
   "metadata": {},
   "source": [
    "# Run tardis simulations and save each spectrum"
   ]
  },
  {
   "cell_type": "code",
   "execution_count": null,
   "metadata": {},
   "outputs": [],
   "source": [
    "import glob\n",
    "from pathlib import Path\n",
    "import pandas as pd\n",
    "import numpy as np\n",
    "\n",
    "from snec_to_tardis_parser import parse_snec_to_tardis\n",
    "from tardis_utils import run_tardis_from_yml\n",
    "\n",
    "\n",
    "tardis_yml_files = sorted(glob.glob(f\"{snec_folder_path}/tardis_configs/*.yml\"))\n",
    "tardis_output_folder_path = snec_folder_path / \"tardis_output\"\n",
    "tardis_output_folder_path.mkdir(exist_ok=True)\n",
    "\n",
    "for yml_file in tardis_yml_files:\n",
    "    spec_output_file = (\n",
    "        tardis_output_folder_path / f\"{yml_file.split('/')[-1].split('.')[0]}_spectrum.csv\"\n",
    "    )\n",
    "    run_tardis_from_yml(yml_file, spec_output_file, n_threads=1)"
   ]
  },
  {
   "cell_type": "code",
   "execution_count": null,
   "metadata": {},
   "outputs": [],
   "source": []
  }
 ],
 "metadata": {
  "kernelspec": {
   "display_name": "tardis",
   "language": "python",
   "name": "python3"
  },
  "language_info": {
   "codemirror_mode": {
    "name": "ipython",
    "version": 3
   },
   "file_extension": ".py",
   "mimetype": "text/x-python",
   "name": "python",
   "nbconvert_exporter": "python",
   "pygments_lexer": "ipython3",
   "version": "3.12.4"
  }
 },
 "nbformat": 4,
 "nbformat_minor": 2
}
